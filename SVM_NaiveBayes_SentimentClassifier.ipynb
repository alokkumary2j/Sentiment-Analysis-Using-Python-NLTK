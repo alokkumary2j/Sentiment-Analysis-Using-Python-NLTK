{
 "cells": [
  {
   "cell_type": "code",
   "execution_count": 60,
   "metadata": {
    "collapsed": true
   },
   "outputs": [],
   "source": [
    "import collections\n",
    "import nltk.classify.util, nltk.metrics\n",
    "from nltk.classify import SklearnClassifier\n",
    "from sklearn.naive_bayes import MultinomialNB\n",
    "from sklearn.naive_bayes import BernoulliNB\n",
    "from sklearn.naive_bayes import GaussianNB\n",
    "from sklearn.svm import SVC\n",
    "from sklearn.svm import LinearSVC\n",
    "from nltk.corpus import movie_reviews\n",
    "from nltk.metrics import scores\n",
    "from nltk import precision\n",
    "import itertools\n",
    "from nltk.collocations import BigramCollocationFinder\n",
    "from nltk.metrics import BigramAssocMeasures\n",
    "from sklearn.svm import LinearSVC\n",
    "from nltk.classify.scikitlearn import SklearnClassifier"
   ]
  },
  {
   "cell_type": "code",
   "execution_count": 63,
   "metadata": {
    "collapsed": true
   },
   "outputs": [],
   "source": [
    "def evaluate_classifier(featx,collocationFunc):\n",
    "    #negFiles = movie_reviews.fileids('neg')\n",
    "    #posFiles = movie_reviews.fileids('pos')\n",
    "    #negWordsList=[movie_reviews.words(fileids=[f]) for f in negFiles]\n",
    "    #posWordsList=[movie_reviews.words(fileids=[f]) for f in posFiles]\n",
    "    #negfeats = [(featx(negWords), 'neg') for negWords in negWordsList]\n",
    "    #posfeats = [(featx(posWords), 'pos') for posWords in posWordsList]\n",
    "\n",
    "    negids = movie_reviews.fileids('neg')\n",
    "    posids = movie_reviews.fileids('pos')\n",
    " \n",
    "    negfeats = [(featx(movie_reviews.words(fileids=[f]),collocationFunc), 'neg') for f in negids]\n",
    "    posfeats = [(featx(movie_reviews.words(fileids=[f]),collocationFunc), 'pos') for f in posids]\n",
    "\n",
    "    lenNegFeats=min(len(negfeats),24)\n",
    "    lenPosFeats=min(len(posfeats),24)\n",
    "    print(\"Sample DataSets : \",lenNegFeats,lenPosFeats)\n",
    "    #lenNegFeats=len(negfeats)\n",
    "    #lenPosFeats=len(posfeats)\n",
    "    negcutoff = int(lenNegFeats*3/4)\n",
    "    poscutoff = int(lenPosFeats*3/4)\n",
    " \n",
    "    trainfeats = negfeats[:negcutoff] + posfeats[:poscutoff]\n",
    "    testfeats = negfeats[negcutoff:lenNegFeats] + posfeats[poscutoff:lenPosFeats]\n",
    " \n",
    "    classifier = SklearnClassifier(LinearSVC()).train(trainfeats)\n",
    "    #classifier = SklearnClassifier(SVC()).train(trainfeats)\n",
    "    #classifier = SklearnClassifier(BernoulliNB()).train(trainfeats)\n",
    "    #classifier = SklearnClassifier(MultinomialNB()).train(trainfeats)\n",
    "    #classifier = SklearnClassifier(GaussianNB()).train(trainfeats) #Doesn't make sense for Non-Numeric Values\n",
    "    refsets = collections.defaultdict(set)\n",
    "    testsets = collections.defaultdict(set)\n",
    " \n",
    "    for i, (feats, label) in enumerate(testfeats):\n",
    "            refsets[label].add(i)\n",
    "            observed = classifier.classify(feats)\n",
    "            testsets[observed].add(i)\n",
    "    evaluationMetrics={}\n",
    "    print(classifier)\n",
    "    evaluationMetrics['svmModel']=classifier\n",
    "    #evaluationMetrics['bernModel']=bernoulliModel\n",
    "    evaluationMetrics['accuracy']=nltk.classify.util.accuracy(classifier, testfeats)\n",
    "    evaluationMetrics['posPrec']=nltk.precision(refsets['pos'], testsets['pos'])\n",
    "    evaluationMetrics['posRecall']=nltk.recall(refsets['pos'], testsets['pos'])\n",
    "    evaluationMetrics['posF_Score']=nltk.f_measure(refsets['pos'], testsets['pos'])\n",
    "    evaluationMetrics['negPrec']=nltk.precision(refsets['neg'], testsets['neg'])\n",
    "    evaluationMetrics['negRecall']=nltk.recall(refsets['neg'], testsets['neg'])\n",
    "    evaluationMetrics['negF_Score']=nltk.f_measure(refsets['neg'], testsets['neg'])\n",
    "    return evaluationMetrics"
   ]
  },
  {
   "cell_type": "code",
   "execution_count": 64,
   "metadata": {
    "collapsed": false
   },
   "outputs": [
    {
     "name": "stdout",
     "output_type": "stream",
     "text": [
      "Sample DataSets :  24 24\n",
      "<SklearnClassifier(LinearSVC(C=1.0, class_weight=None, dual=True, fit_intercept=True,\n",
      "     intercept_scaling=1, loss='squared_hinge', max_iter=1000,\n",
      "     multi_class='ovr', penalty='l2', random_state=None, tol=0.0001,\n",
      "     verbose=0))>\n"
     ]
    }
   ],
   "source": [
    "from nltk.corpus import stopwords\n",
    "stopset = set(stopwords.words('english'))\n",
    "evaluations=[] \n",
    "def stopword_filtered_word_feats(words,collocator):\n",
    "    return dict([(word, True) for word in words if word not in stopset])\n",
    "evaluations.append(evaluate_classifier(stopword_filtered_word_feats,None)) "
   ]
  },
  {
   "cell_type": "code",
   "execution_count": 65,
   "metadata": {
    "collapsed": false
   },
   "outputs": [
    {
     "data": {
      "text/plain": [
       "{'accuracy': 0.9166666666666666,\n",
       " 'negF_Score': 0.9230769230769229,\n",
       " 'negPrec': 0.8571428571428571,\n",
       " 'negRecall': 1.0,\n",
       " 'posF_Score': 0.9090909090909091,\n",
       " 'posPrec': 1.0,\n",
       " 'posRecall': 0.8333333333333334,\n",
       " 'svmModel': <SklearnClassifier(LinearSVC(C=1.0, class_weight=None, dual=True, fit_intercept=True,\n",
       "      intercept_scaling=1, loss='squared_hinge', max_iter=1000,\n",
       "      multi_class='ovr', penalty='l2', random_state=None, tol=0.0001,\n",
       "      verbose=0))>}"
      ]
     },
     "execution_count": 65,
     "metadata": {},
     "output_type": "execute_result"
    }
   ],
   "source": [
    "evaluations[0]\n",
    "#******************** RESULTS FOR SVC :24 Reviews*************************************\n",
    "#{'accuracy': 0.583,'negF_Score': 0.705,'negPrec': 0.545,'negRecall': 1.0,'posF_Score': 0.285,'posPrec': 1.0,\n",
    "#'posRecall': 0.166,'svmModel': <SklearnClassifier(SVC(C=1.0, cache_size=200,degree=3, gamma='auto', kernel='rbf',\n",
    "   #max_iter=-1, probability=False, random_state=None, shrinking=True,tol=0.001, verbose=False))>}\n",
    "#******************** RESULTS FOR SVC :120 Reviews*************************************\n",
    "#{'accuracy': 0.6,'negF_Score': 0.700,'negPrec': 0.56,'negRecall': 0.93,'posF_Score': 0.4,'posPrec': 0.8,\n",
    "#'posRecall': 0.266,'svmModel': <SklearnClassifier(SVC(C=1.0, cache_size=200,degree=3, gamma='auto', kernel='rbf',\n",
    "   #max_iter=-1, probability=False, random_state=None, shrinking=True,tol=0.001, verbose=False))>}\n",
    "#******************** RESULTS FOR SVC :1000 Reviews*************************************\n",
    "#{'accuracy': 0.632,'negF_Score': 0.729,'negPrec': 0.576,'negRecall': 0.992,'posF_Score': 0.425,'posPrec': 0.971,\n",
    "#'posRecall': 0.272,'svmModel': <SklearnClassifier(SVC(C=1.0, cache_size=200,degree=3, gamma='auto', kernel='rbf',\n",
    "   #max_iter=-1, probability=False, random_state=None, shrinking=True,tol=0.001, verbose=False))>}\n",
    "\n",
    "#******************** RESULTS FOR LINEAR SVC :24 Reviews*************************************\n",
    "#{'accuracy': 0.916,'negF_Score': 0.923,'negPrec': 0.857,'negRecall': 1.0,'posF_Score': 0.909,'posPrec': 1.0,\n",
    "#'posRecall': 0.833,'svmModel': <SklearnClassifier(LinearSVC(C=1.0,intercept_scaling=1, loss='squared_hinge', \n",
    "    #max_iter=1000,multi_class='ovr', penalty='l2', random_state=None, tol=0.0001,verbose=0))>}\n",
    "#******************** RESULTS FOR LINEAR SVC :240 Reviews*************************************\n",
    "#{'accuracy': 0.741,'negF_Score': 0.755,'negPrec': 0.716,'negRecall': 0.8,'posF_Score': 0.725,'posPrec': 0.773,\n",
    "#'posRecall': 0.683,'svmModel': <SklearnClassifier(LinearSVC(C=1.0,intercept_scaling=1, loss='squared_hinge', \n",
    "    #max_iter=1000,multi_class='ovr', penalty='l2', random_state=None, tol=0.0001,verbose=0))>}\n",
    "#******************** RESULTS FOR LINEAR SVC :1000 Reviews*************************************\n",
    "#{'accuracy': 0.872,'negF_Score': 0.874,'negPrec': 0.857,'negRecall': 0.892,'posF_Score': 0.869,'posPrec': 0.887,\n",
    "#'posRecall': 0.852,'svmModel': <SklearnClassifier(LinearSVC(C=1.0,intercept_scaling=1, loss='squared_hinge', \n",
    "    #max_iter=1000,multi_class='ovr', penalty='l2', random_state=None, tol=0.0001,verbose=0))>}\n",
    "\n",
    "#******************** RESULTS FOR BernoulliNB :24 Reviews*************************************\n",
    "#'accuracy': 0.75,'negF_Score': 0.8,'negPrec': 0.666, 'negRecall': 1.0,\n",
    "#'posF_Score': 0.666,'posPrec': 1.0,'posRecall': 0.5\n",
    "#******************** RESULTS FOR BernoulliNB :240 Reviews*************************************\n",
    "#'accuracy': 0.733,'negF_Score': 0.768,'negPrec': 0.679, 'negRecall': 0.883,\n",
    "#'posF_Score': 0.686,'posPrec': 0.833,'posRecall': 0.583\n",
    "#******************** RESULTS FOR BernoulliNB :1000 Reviews*************************************\n",
    "#'accuracy': 0.808,'negF_Score': 0.8285,'negPrec': 0.748, 'negRecall': 0.928,\n",
    "#'posF_Score': 0.781,'posPrec': 0.905,'posRecall': 0.688\n",
    "\n",
    "#******************** RESULTS FOR MultiNomialNB :24 Reviews*************************************\n",
    "#'accuracy': 0.75,'negF_Score': 0.8,'negPrec': 0.666, 'negRecall': 1.0,\n",
    "#'posF_Score': 0.666,'posPrec': 1.0,'posRecall': 0.5\n",
    "#******************** RESULTS FOR MultiNomialNB :240 Reviews*************************************\n",
    "#'accuracy': 0.791,'negF_Score': 0.8,'negPrec': 0.769, 'negRecall': 0.833,\n",
    "#'posF_Score': 0.782,'posPrec': 0.818,'posRecall': 0.75\n",
    "#******************** RESULTS FOR MultiNomialNB :1000 Reviews*************************************\n",
    "#'accuracy': 0.826,'negF_Score': 0.832,'negPrec': 0.802, 'negRecall': 0.864,\n",
    "#'posF_Score': 0.819,'posPrec': 0.852,'posRecall': 0.788"
   ]
  },
  {
   "cell_type": "code",
   "execution_count": 51,
   "metadata": {
    "collapsed": false
   },
   "outputs": [
    {
     "name": "stdout",
     "output_type": "stream",
     "text": [
      "4943 4943 1.0\n",
      "[0 1] 4943 -1.38629436112\n",
      "[0 1]\n"
     ]
    },
    {
     "data": {
      "text/plain": [
       "array([-0.69314718, -0.69314718])"
      ]
     },
     "execution_count": 51,
     "metadata": {},
     "output_type": "execute_result"
    }
   ],
   "source": [
    "svmModel=evaluations[0]['svmModel']\n",
    "bernoulliModel=evaluations[0]['bernModel']\n",
    "print(len(bernoulliModel.feature_count_[0]),len(bernoulliModel.feature_count_[1]),bernoulliModel.alpha)\n",
    "print(bernoulliModel.classes_,len(bernoulliModel.coef_[0]),bernoulliModel.coef_[0][0])\n",
    "bernoulliModel.class_count_#[18.0,18.0]\n",
    "print(bernoulliModel.classes_)#[0,1]\n",
    "bernoulliModel.get_params()#{'alpha': 1.0, 'binarize': 0.0, 'class_prior': None, 'fit_prior': True}\n",
    "bernoulliModel.class_log_prior_#[ln(0.5)=-0.69314718, ln(.5)=-0.69314718]\n",
    "bernoulliModel.\n",
    "#BernoulliNB.get_params(svmModel)"
   ]
  },
  {
   "cell_type": "code",
   "execution_count": 13,
   "metadata": {
    "collapsed": false
   },
   "outputs": [
    {
     "ename": "TypeError",
     "evalue": "unorderable types: str() < tuple()",
     "output_type": "error",
     "traceback": [
      "\u001b[1;31m---------------------------------------------------------------------------\u001b[0m",
      "\u001b[1;31mTypeError\u001b[0m                                 Traceback (most recent call last)",
      "\u001b[1;32m<ipython-input-13-2b50d840c4d2>\u001b[0m in \u001b[0;36m<module>\u001b[1;34m()\u001b[0m\n\u001b[0;32m      9\u001b[0m     \u001b[1;32mreturn\u001b[0m \u001b[0mdict\u001b[0m\u001b[1;33m(\u001b[0m\u001b[1;33m[\u001b[0m\u001b[1;33m(\u001b[0m\u001b[0mngram\u001b[0m\u001b[1;33m,\u001b[0m \u001b[1;32mTrue\u001b[0m\u001b[1;33m)\u001b[0m \u001b[1;32mfor\u001b[0m \u001b[0mngram\u001b[0m \u001b[1;32min\u001b[0m \u001b[0mitertools\u001b[0m\u001b[1;33m.\u001b[0m\u001b[0mchain\u001b[0m\u001b[1;33m(\u001b[0m\u001b[0mwords\u001b[0m\u001b[1;33m,\u001b[0m \u001b[0mbigrams\u001b[0m\u001b[1;33m)\u001b[0m\u001b[1;33m]\u001b[0m\u001b[1;33m)\u001b[0m\u001b[1;33m\u001b[0m\u001b[0m\n\u001b[0;32m     10\u001b[0m \u001b[1;33m\u001b[0m\u001b[0m\n\u001b[1;32m---> 11\u001b[1;33m \u001b[0mevaluations\u001b[0m\u001b[1;33m.\u001b[0m\u001b[0mappend\u001b[0m\u001b[1;33m(\u001b[0m\u001b[0mevaluate_classifier\u001b[0m\u001b[1;33m(\u001b[0m\u001b[0mbigram_word_feats\u001b[0m\u001b[1;33m,\u001b[0m\u001b[0mBigramAssocMeasures\u001b[0m\u001b[1;33m.\u001b[0m\u001b[0mchi_sq\u001b[0m\u001b[1;33m)\u001b[0m\u001b[1;33m)\u001b[0m\u001b[1;31m#Works best for this Data\u001b[0m\u001b[1;33m\u001b[0m\u001b[0m\n\u001b[0m\u001b[0;32m     12\u001b[0m \u001b[0mevaluations\u001b[0m\u001b[1;33m.\u001b[0m\u001b[0mappend\u001b[0m\u001b[1;33m(\u001b[0m\u001b[0mevaluate_classifier\u001b[0m\u001b[1;33m(\u001b[0m\u001b[0mbigram_word_feats\u001b[0m\u001b[1;33m,\u001b[0m\u001b[0mBigramAssocMeasures\u001b[0m\u001b[1;33m.\u001b[0m\u001b[0mjaccard\u001b[0m\u001b[1;33m)\u001b[0m\u001b[1;33m)\u001b[0m\u001b[1;33m\u001b[0m\u001b[0m\n\u001b[0;32m     13\u001b[0m \u001b[0mevaluations\u001b[0m\u001b[1;33m.\u001b[0m\u001b[0mappend\u001b[0m\u001b[1;33m(\u001b[0m\u001b[0mevaluate_classifier\u001b[0m\u001b[1;33m(\u001b[0m\u001b[0mbigram_word_feats\u001b[0m\u001b[1;33m,\u001b[0m\u001b[0mBigramAssocMeasures\u001b[0m\u001b[1;33m.\u001b[0m\u001b[0mlikelihood_ratio\u001b[0m\u001b[1;33m)\u001b[0m\u001b[1;33m)\u001b[0m\u001b[1;33m\u001b[0m\u001b[0m\n",
      "\u001b[1;32m<ipython-input-11-87ad90773217>\u001b[0m in \u001b[0;36mevaluate_classifier\u001b[1;34m(featx, collocationFunc)\u001b[0m\n\u001b[0;32m     24\u001b[0m \u001b[1;33m\u001b[0m\u001b[0m\n\u001b[0;32m     25\u001b[0m     \u001b[1;31m#classifier = MaxentClassifier.train(trainfeats)\u001b[0m\u001b[1;33m\u001b[0m\u001b[1;33m\u001b[0m\u001b[0m\n\u001b[1;32m---> 26\u001b[1;33m     \u001b[0mclassifier\u001b[0m \u001b[1;33m=\u001b[0m \u001b[0mSklearnClassifier\u001b[0m\u001b[1;33m(\u001b[0m\u001b[0mBernoulliNB\u001b[0m\u001b[1;33m(\u001b[0m\u001b[1;33m)\u001b[0m\u001b[1;33m)\u001b[0m\u001b[1;33m.\u001b[0m\u001b[0mtrain\u001b[0m\u001b[1;33m(\u001b[0m\u001b[0mtrainfeats\u001b[0m\u001b[1;33m)\u001b[0m\u001b[1;33m\u001b[0m\u001b[0m\n\u001b[0m\u001b[0;32m     27\u001b[0m     \u001b[0mrefsets\u001b[0m \u001b[1;33m=\u001b[0m \u001b[0mcollections\u001b[0m\u001b[1;33m.\u001b[0m\u001b[0mdefaultdict\u001b[0m\u001b[1;33m(\u001b[0m\u001b[0mset\u001b[0m\u001b[1;33m)\u001b[0m\u001b[1;33m\u001b[0m\u001b[0m\n\u001b[0;32m     28\u001b[0m     \u001b[0mtestsets\u001b[0m \u001b[1;33m=\u001b[0m \u001b[0mcollections\u001b[0m\u001b[1;33m.\u001b[0m\u001b[0mdefaultdict\u001b[0m\u001b[1;33m(\u001b[0m\u001b[0mset\u001b[0m\u001b[1;33m)\u001b[0m\u001b[1;33m\u001b[0m\u001b[0m\n",
      "\u001b[1;32m/home/alok/anaconda3/lib/python3.5/site-packages/nltk/classify/scikitlearn.py\u001b[0m in \u001b[0;36mtrain\u001b[1;34m(self, labeled_featuresets)\u001b[0m\n\u001b[0;32m    113\u001b[0m \u001b[1;33m\u001b[0m\u001b[0m\n\u001b[0;32m    114\u001b[0m         \u001b[0mX\u001b[0m\u001b[1;33m,\u001b[0m \u001b[0my\u001b[0m \u001b[1;33m=\u001b[0m \u001b[0mlist\u001b[0m\u001b[1;33m(\u001b[0m\u001b[0mcompat\u001b[0m\u001b[1;33m.\u001b[0m\u001b[0mizip\u001b[0m\u001b[1;33m(\u001b[0m\u001b[1;33m*\u001b[0m\u001b[0mlabeled_featuresets\u001b[0m\u001b[1;33m)\u001b[0m\u001b[1;33m)\u001b[0m\u001b[1;33m\u001b[0m\u001b[0m\n\u001b[1;32m--> 115\u001b[1;33m         \u001b[0mX\u001b[0m \u001b[1;33m=\u001b[0m \u001b[0mself\u001b[0m\u001b[1;33m.\u001b[0m\u001b[0m_vectorizer\u001b[0m\u001b[1;33m.\u001b[0m\u001b[0mfit_transform\u001b[0m\u001b[1;33m(\u001b[0m\u001b[0mX\u001b[0m\u001b[1;33m)\u001b[0m\u001b[1;33m\u001b[0m\u001b[0m\n\u001b[0m\u001b[0;32m    116\u001b[0m         \u001b[0my\u001b[0m \u001b[1;33m=\u001b[0m \u001b[0mself\u001b[0m\u001b[1;33m.\u001b[0m\u001b[0m_encoder\u001b[0m\u001b[1;33m.\u001b[0m\u001b[0mfit_transform\u001b[0m\u001b[1;33m(\u001b[0m\u001b[0my\u001b[0m\u001b[1;33m)\u001b[0m\u001b[1;33m\u001b[0m\u001b[0m\n\u001b[0;32m    117\u001b[0m         \u001b[0mself\u001b[0m\u001b[1;33m.\u001b[0m\u001b[0m_clf\u001b[0m\u001b[1;33m.\u001b[0m\u001b[0mfit\u001b[0m\u001b[1;33m(\u001b[0m\u001b[0mX\u001b[0m\u001b[1;33m,\u001b[0m \u001b[0my\u001b[0m\u001b[1;33m)\u001b[0m\u001b[1;33m\u001b[0m\u001b[0m\n",
      "\u001b[1;32m/home/alok/anaconda3/lib/python3.5/site-packages/sklearn/feature_extraction/dict_vectorizer.py\u001b[0m in \u001b[0;36mfit_transform\u001b[1;34m(self, X, y)\u001b[0m\n\u001b[0;32m    224\u001b[0m             \u001b[0mFeature\u001b[0m \u001b[0mvectors\u001b[0m\u001b[1;33m;\u001b[0m \u001b[0malways\u001b[0m \u001b[1;36m2\u001b[0m\u001b[1;33m-\u001b[0m\u001b[0md\u001b[0m\u001b[1;33m.\u001b[0m\u001b[1;33m\u001b[0m\u001b[0m\n\u001b[0;32m    225\u001b[0m         \"\"\"\n\u001b[1;32m--> 226\u001b[1;33m         \u001b[1;32mreturn\u001b[0m \u001b[0mself\u001b[0m\u001b[1;33m.\u001b[0m\u001b[0m_transform\u001b[0m\u001b[1;33m(\u001b[0m\u001b[0mX\u001b[0m\u001b[1;33m,\u001b[0m \u001b[0mfitting\u001b[0m\u001b[1;33m=\u001b[0m\u001b[1;32mTrue\u001b[0m\u001b[1;33m)\u001b[0m\u001b[1;33m\u001b[0m\u001b[0m\n\u001b[0m\u001b[0;32m    227\u001b[0m \u001b[1;33m\u001b[0m\u001b[0m\n\u001b[0;32m    228\u001b[0m     \u001b[1;32mdef\u001b[0m \u001b[0minverse_transform\u001b[0m\u001b[1;33m(\u001b[0m\u001b[0mself\u001b[0m\u001b[1;33m,\u001b[0m \u001b[0mX\u001b[0m\u001b[1;33m,\u001b[0m \u001b[0mdict_type\u001b[0m\u001b[1;33m=\u001b[0m\u001b[0mdict\u001b[0m\u001b[1;33m)\u001b[0m\u001b[1;33m:\u001b[0m\u001b[1;33m\u001b[0m\u001b[0m\n",
      "\u001b[1;32m/home/alok/anaconda3/lib/python3.5/site-packages/sklearn/feature_extraction/dict_vectorizer.py\u001b[0m in \u001b[0;36m_transform\u001b[1;34m(self, X, fitting)\u001b[0m\n\u001b[0;32m    188\u001b[0m         \u001b[1;31m# Sort everything if asked\u001b[0m\u001b[1;33m\u001b[0m\u001b[1;33m\u001b[0m\u001b[0m\n\u001b[0;32m    189\u001b[0m         \u001b[1;32mif\u001b[0m \u001b[0mfitting\u001b[0m \u001b[1;32mand\u001b[0m \u001b[0mself\u001b[0m\u001b[1;33m.\u001b[0m\u001b[0msort\u001b[0m\u001b[1;33m:\u001b[0m\u001b[1;33m\u001b[0m\u001b[0m\n\u001b[1;32m--> 190\u001b[1;33m             \u001b[0mfeature_names\u001b[0m\u001b[1;33m.\u001b[0m\u001b[0msort\u001b[0m\u001b[1;33m(\u001b[0m\u001b[1;33m)\u001b[0m\u001b[1;33m\u001b[0m\u001b[0m\n\u001b[0m\u001b[0;32m    191\u001b[0m             \u001b[0mmap_index\u001b[0m \u001b[1;33m=\u001b[0m \u001b[0mnp\u001b[0m\u001b[1;33m.\u001b[0m\u001b[0mempty\u001b[0m\u001b[1;33m(\u001b[0m\u001b[0mlen\u001b[0m\u001b[1;33m(\u001b[0m\u001b[0mfeature_names\u001b[0m\u001b[1;33m)\u001b[0m\u001b[1;33m,\u001b[0m \u001b[0mdtype\u001b[0m\u001b[1;33m=\u001b[0m\u001b[0mnp\u001b[0m\u001b[1;33m.\u001b[0m\u001b[0mint32\u001b[0m\u001b[1;33m)\u001b[0m\u001b[1;33m\u001b[0m\u001b[0m\n\u001b[0;32m    192\u001b[0m             \u001b[1;32mfor\u001b[0m \u001b[0mnew_val\u001b[0m\u001b[1;33m,\u001b[0m \u001b[0mf\u001b[0m \u001b[1;32min\u001b[0m \u001b[0menumerate\u001b[0m\u001b[1;33m(\u001b[0m\u001b[0mfeature_names\u001b[0m\u001b[1;33m)\u001b[0m\u001b[1;33m:\u001b[0m\u001b[1;33m\u001b[0m\u001b[0m\n",
      "\u001b[1;31mTypeError\u001b[0m: unorderable types: str() < tuple()"
     ]
    }
   ],
   "source": [
    "#Bigram Collocations- Handle Cases like “not good”, here B-O-W Approach will Fail\n",
    "import itertools\n",
    "from nltk.collocations import BigramCollocationFinder\n",
    "from nltk.metrics import BigramAssocMeasures\n",
    " \n",
    "def bigram_word_feats(words, score_fn, n=200):\n",
    "    bigram_finder = BigramCollocationFinder.from_words(words)\n",
    "    bigrams = bigram_finder.nbest(score_fn, n)\n",
    "    return dict([(ngram, True) for ngram in itertools.chain(words, bigrams)])\n",
    " \n",
    "evaluations.append(evaluate_classifier(bigram_word_feats,BigramAssocMeasures.chi_sq))#Works best for this Data\n",
    "evaluations.append(evaluate_classifier(bigram_word_feats,BigramAssocMeasures.jaccard))\n",
    "evaluations.append(evaluate_classifier(bigram_word_feats,BigramAssocMeasures.likelihood_ratio))"
   ]
  },
  {
   "cell_type": "code",
   "execution_count": null,
   "metadata": {
    "collapsed": true
   },
   "outputs": [],
   "source": [
    "from nltk.collocations import *\n",
    "from nltk.probability import FreqDist\n",
    "from nltk.probability import ConditionalFreqDist\n",
    "word_fd = FreqDist()\n",
    "label_word_fd = ConditionalFreqDist()\n",
    "\n",
    "testNegWords = movie_reviews.words(categories=['pos'])\n",
    "testPosWords = movie_reviews.words(categories=['neg'])\n",
    "\n",
    "for word in testNegWords:\n",
    "    word_fd[word.lower()]+=1\n",
    "    label_word_fd['neg'][word.lower()]+=1\n",
    "for word in testPosWords:\n",
    "    word_fd[word.lower()]+=1\n",
    "    label_word_fd['pos'][word.lower()]+=1\n",
    "print(word_fd.N(),word_fd.B(),word_fd.most_common(20))\n",
    "print(label_word_fd.N(),label_word_fd.conditions(),label_word_fd.items())\n",
    "print(label_word_fd['pos'].N(),label_word_fd['neg'].N())"
   ]
  },
  {
   "cell_type": "code",
   "execution_count": null,
   "metadata": {
    "collapsed": true
   },
   "outputs": [],
   "source": [
    "# n_ii = label_word_fd[label][word]\n",
    "# n_ix = word_fd[word]\n",
    "# n_xi = label_word_fd[label].N()\n",
    "# n_xx = label_word_fd.N()\n",
    "#         w1    ~w1\n",
    "#      ------ ------\n",
    "#  w2 | n_ii | n_oi | = n_xi\n",
    "#      ------ ------\n",
    "# ~w2 | n_io | n_oo |\n",
    "#     ------ ------\n",
    "#      =n_ix         TOTAL = n_xx\n",
    "# A number of measures are available to score collocations or other associations. The arguments to measure \n",
    "# functions are marginals of a contingency table, in the bigram case (n_ii, (n_ix, n_xi), n_xx):\n",
    "# n_ii = label_word_fd[label][word]\n",
    "# n_ix = word_fd[word]\n",
    "# n_xi = label_word_fd[label].N()\n",
    "# n_xx = label_word_fd.N()\n",
    "# Chi-Sq Contingency Table : Relating Word w1 with \"pos\" classification \n",
    "#         w1    ~w1\n",
    "#      ------ ------\n",
    "# +ve | n_ii | n_oi | = n_xi\n",
    "#      ------ ------\n",
    "# -ve | n_io | n_oo |\n",
    "#     ------ ------\n",
    "#      =n_ix         TOTAL = n_xx\n",
    "# n_ix : Total Freq of word w1, n_xi: pos_word_count \n",
    "pos_word_count = label_word_fd['pos'].N()\n",
    "neg_word_count = label_word_fd['neg'].N()\n",
    "total_word_count = pos_word_count + neg_word_count\n",
    " \n",
    "word_scores = {}\n",
    "\n",
    "#print(word_fd.items())\n",
    "for word, freq in word_fd.items():\n",
    "    pos_score = BigramAssocMeasures.chi_sq(label_word_fd['pos'][word],(freq, pos_word_count), total_word_count)\n",
    "    neg_score = BigramAssocMeasures.chi_sq(label_word_fd['neg'][word],(freq, neg_word_count), total_word_count)\n",
    "    word_scores[word] = pos_score + neg_score\n",
    "import operator\n",
    "best1 = sorted(word_scores.items(), key=operator.itemgetter(1), reverse=True)[:10000]\n",
    "bestwords = set([w for w, s in best1])\n",
    " \n",
    "def best_word_feats(words,biGramMeasure):\n",
    "    return dict([(word, True) for word in words if word in bestwords])\n",
    " \n",
    "evaluations.append(evaluate_classifier(best_word_feats,BigramAssocMeasures.chi_sq))\n",
    " \n",
    "def best_bigram_word_feats(words, score_fn=BigramAssocMeasures.chi_sq, n=200):\n",
    "    bigram_finder = BigramCollocationFinder.from_words(words)\n",
    "    bigrams = bigram_finder.nbest(score_fn, n)\n",
    "    d = dict([(bigram, True) for bigram in bigrams])\n",
    "    d.update(best_word_feats(words,score_fn))\n",
    "    return d\n",
    "evaluations.append(evaluate_classifier(best_bigram_word_feats,BigramAssocMeasures.chi_sq))"
   ]
  },
  {
   "cell_type": "code",
   "execution_count": null,
   "metadata": {
    "collapsed": true
   },
   "outputs": [],
   "source": [
    "for modelEvalMetrics in evaluations:\n",
    "    print(modelEvalMetrics)"
   ]
  }
 ],
 "metadata": {
  "kernelspec": {
   "display_name": "Python 3",
   "language": "python",
   "name": "python3"
  },
  "language_info": {
   "codemirror_mode": {
    "name": "ipython",
    "version": 3
   },
   "file_extension": ".py",
   "mimetype": "text/x-python",
   "name": "python",
   "nbconvert_exporter": "python",
   "pygments_lexer": "ipython3",
   "version": "3.5.1"
  }
 },
 "nbformat": 4,
 "nbformat_minor": 0
}
