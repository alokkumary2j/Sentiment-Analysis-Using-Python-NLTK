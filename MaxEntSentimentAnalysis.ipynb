{
 "cells": [
  {
   "cell_type": "code",
   "execution_count": 1,
   "metadata": {
    "collapsed": true
   },
   "outputs": [],
   "source": [
    "import collections\n",
    "import nltk.classify.util, nltk.metrics\n",
    "from nltk.classify import MaxentClassifier\n",
    "from nltk.corpus import movie_reviews\n",
    "from nltk.metrics import scores\n",
    "from nltk import precision\n",
    "import itertools\n",
    "from nltk.collocations import BigramCollocationFinder\n",
    "from nltk.metrics import BigramAssocMeasures"
   ]
  },
  {
   "cell_type": "code",
   "execution_count": 36,
   "metadata": {
    "collapsed": false
   },
   "outputs": [],
   "source": [
    "def evaluate_classifier(featx,collocationFunc):\n",
    "    negids = movie_reviews.fileids('neg')\n",
    "    posids = movie_reviews.fileids('pos')\n",
    " \n",
    "    negfeats = [(featx(movie_reviews.words(fileids=[f]),collocationFunc), 'neg') for f in negids]\n",
    "    posfeats = [(featx(movie_reviews.words(fileids=[f]),collocationFunc), 'pos') for f in posids]\n",
    "\n",
    "    lenNegFeats=min(len(negfeats),400)\n",
    "    lenPosFeats=min(len(posfeats),400)\n",
    "#    lenNegFeats=len(negfeats)\n",
    "#    lenPosFeats=len(posfeats)\n",
    "    negcutoff = int(lenNegFeats*3/4)\n",
    "    poscutoff = int(lenPosFeats*3/4)\n",
    " \n",
    "    trainfeats = negfeats[:negcutoff] + posfeats[:poscutoff]\n",
    "    testfeats = negfeats[negcutoff:lenNegFeats] + posfeats[poscutoff:lenPosFeats]\n",
    " \n",
    "    classifier = MaxentClassifier.train(trainfeats,algorithm='IIS',max_iter=3)\n",
    "    print(classifier)\n",
    "    refsets = collections.defaultdict(set)\n",
    "    testsets = collections.defaultdict(set)\n",
    "    print(classifier)\n",
    "    for i, (feats, label) in enumerate(testfeats):\n",
    "            refsets[label].add(i)\n",
    "            observed = classifier.classify(feats)\n",
    "            testsets[observed].add(i)\n",
    "    evaluationMetrics={}\n",
    "    classifier.show_most_informative_features()\n",
    "    evaluationMetrics['model']=classifier\n",
    "    evaluationMetrics['trainingData']=trainfeats\n",
    "    evaluationMetrics['accuracy']=nltk.classify.util.accuracy(classifier, testfeats)\n",
    "    evaluationMetrics['posPrec']=nltk.precision(refsets['pos'], testsets['pos'])\n",
    "    evaluationMetrics['posRecall']=nltk.recall(refsets['pos'], testsets['pos'])\n",
    "    evaluationMetrics['posF_Score']=nltk.f_measure(refsets['pos'], testsets['pos'])\n",
    "    evaluationMetrics['negPrec']=nltk.precision(refsets['neg'], testsets['neg'])\n",
    "    evaluationMetrics['negRecall']=nltk.recall(refsets['neg'], testsets['neg'])\n",
    "    evaluationMetrics['negF_Score']=nltk.f_measure(refsets['neg'], testsets['neg'])\n",
    "    return evaluationMetrics"
   ]
  },
  {
   "cell_type": "code",
   "execution_count": 37,
   "metadata": {
    "collapsed": false
   },
   "outputs": [],
   "source": [
    "all_words = nltk.FreqDist(word for word in movie_reviews.words())\n",
    "#type(all_words),type(all_words.keys())\n",
    "dict_Keys=all_words.keys()\n",
    "top_words=all_words.most_common(8000)\n",
    "top_words=set(word[0] for word in top_words)\n",
    "#{word[0]:word[1] for word in top_words)"
   ]
  },
  {
   "cell_type": "code",
   "execution_count": 38,
   "metadata": {
    "collapsed": false
   },
   "outputs": [
    {
     "name": "stdout",
     "output_type": "stream",
     "text": [
      "  ==> Training (3 iterations)\n",
      "\n",
      "      Iteration    Log Likelihood    Accuracy\n",
      "      ---------------------------------------\n",
      "             1          -0.69315        0.500\n",
      "             2          -0.48733        0.910\n",
      "         Final          -0.38160        0.888\n",
      "<ConditionalExponentialClassifier: 2 labels, 14501 features>\n",
      "<ConditionalExponentialClassifier: 2 labels, 14501 features>\n",
      "   0.964 &==True and label is 'neg'\n",
      "   0.964 whatever==True and label is 'neg'\n",
      "   0.964 idea==True and label is 'neg'\n",
      "   0.964 took==True and label is 'neg'\n",
      "   0.964 witch==True and label is 'neg'\n",
      "   0.964 american==True and label is 'neg'\n",
      "   0.964 dig==True and label is 'neg'\n",
      "   0.964 fantasy==True and label is 'neg'\n",
      "   0.964 despite==True and label is 'neg'\n",
      "   0.964 package==True and label is 'neg'\n"
     ]
    }
   ],
   "source": [
    "from nltk.corpus import stopwords\n",
    "stopset = set(stopwords.words('english'))\n",
    "evaluations=[]\n",
    "def stopword_filtered_word_feats(words,collocator):\n",
    "    return dict([(word, True) for word in words if word not in stopset if word in top_words])\n",
    "evaluations.append(evaluate_classifier(stopword_filtered_word_feats,None)) "
   ]
  },
  {
   "cell_type": "code",
   "execution_count": 39,
   "metadata": {
    "collapsed": false
   },
   "outputs": [
    {
     "name": "stdout",
     "output_type": "stream",
     "text": [
      "18 <class 'list'>\n"
     ]
    },
    {
     "data": {
      "text/plain": [
       "(2232, 2378, 4610)"
      ]
     },
     "execution_count": 39,
     "metadata": {},
     "output_type": "execute_result"
    }
   ],
   "source": [
    "def returnUniqWC(evaluations):\n",
    "    totUniqWords=[]\n",
    "    for i in range(len(evaluations)):\n",
    "        itemSet=set(evaluations[i][0].keys())\n",
    "        totUniqWords.extend(list(itemSet))\n",
    "        totUniqWords=set(totUniqWords)\n",
    "        totUniqWords=list(totUniqWords)\n",
    "    return len(totUniqWords)\n",
    "maxEntModel=evaluations[0][\"model\"]\n",
    "maxEntModel.ALGORITHMS#['GIS', 'IIS', 'MEGAM', 'TADM']\n",
    "maxEntModel#<ConditionalExponentialClassifier: 2 labels, 6092 features>\n",
    "len(evaluations[0][\"trainingData\"])#36 Entries (18 pos +18 neg Movie reviews)\n",
    "posPart=evaluations[0][\"trainingData\"][0:18]\n",
    "print(len(posPart),type(posPart))\n",
    "negPart=evaluations[0][\"trainingData\"][18:36]\n",
    "posWC=returnUniqWC(posPart)\n",
    "negWC=returnUniqWC(negPart)\n",
    "posWC,negWC,posWC+negWC#2959,3133,6092"
   ]
  },
  {
   "cell_type": "code",
   "execution_count": 40,
   "metadata": {
    "collapsed": false,
    "scrolled": true
   },
   "outputs": [
    {
     "data": {
      "text/plain": [
       "['pos', 'pos', 'pos', 'pos', 'pos', 'neg']"
      ]
     },
     "execution_count": 40,
     "metadata": {},
     "output_type": "execute_result"
    }
   ],
   "source": [
    "maxEntModel.classify_many([{\"speech\":True},{\"speech\":False},{\"simple\":True},{\"unseenword\":True},\n",
    "                           {\"killed\":True},{\"generally\":True}])"
   ]
  },
  {
   "cell_type": "code",
   "execution_count": 41,
   "metadata": {
    "collapsed": false
   },
   "outputs": [
    {
     "name": "stdout",
     "output_type": "stream",
     "text": [
      "  Feature                                              pos     neg\n",
      "  ----------------------------------------------------------------\n",
      "  speech==True (1)                                   0.279\n",
      "  speech==True (1)                                           0.251\n",
      "  -----------------------------------------------------------------\n",
      "  TOTAL:                                             0.279   0.251\n",
      "  PROBS:                                             0.505   0.495\n",
      "*********************************************************************\n",
      "  Feature                                              pos     neg\n",
      "  ----------------------------------------------------------------\n",
      "  killed==True (1)                                   0.934\n",
      "  killed==True (1)                                           0.917\n",
      "  -----------------------------------------------------------------\n",
      "  TOTAL:                                             0.934   0.917\n",
      "  PROBS:                                             0.503   0.497\n",
      "*********************************************************************\n",
      "  Feature                                              neg     pos\n",
      "  ----------------------------------------------------------------\n",
      "  generally==True (1)                                0.643\n",
      "  generally==True (1)                                        0.621\n",
      "  -----------------------------------------------------------------\n",
      "  TOTAL:                                             0.643   0.621\n",
      "  PROBS:                                             0.504   0.496\n"
     ]
    }
   ],
   "source": [
    "maxEntModel.explain({\"speech\":True})\n",
    "print(\"*********************************************************************\")\n",
    "maxEntModel.explain({\"killed\":True})\n",
    "print(\"*********************************************************************\")\n",
    "maxEntModel.explain({\"generally\":True})"
   ]
  },
  {
   "cell_type": "code",
   "execution_count": 74,
   "metadata": {
    "collapsed": false
   },
   "outputs": [
    {
     "name": "stdout",
     "output_type": "stream",
     "text": [
      "True neg\n"
     ]
    },
    {
     "ename": "TypeError",
     "evalue": "prob_classify() missing 1 required positional argument: 'featureset'",
     "output_type": "error",
     "traceback": [
      "\u001b[1;31m---------------------------------------------------------------------------\u001b[0m",
      "\u001b[1;31mTypeError\u001b[0m                                 Traceback (most recent call last)",
      "\u001b[1;32m<ipython-input-74-300a3612c19b>\u001b[0m in \u001b[0;36m<module>\u001b[1;34m()\u001b[0m\n\u001b[0;32m      3\u001b[0m \u001b[0mprobDist2\u001b[0m\u001b[1;33m=\u001b[0m\u001b[0mmaxEntModel\u001b[0m\u001b[1;33m.\u001b[0m\u001b[0mprob_classify\u001b[0m\u001b[1;33m(\u001b[0m\u001b[1;33m{\u001b[0m\u001b[1;34m\"generally\"\u001b[0m\u001b[1;33m:\u001b[0m\u001b[1;32mTrue\u001b[0m\u001b[1;33m}\u001b[0m\u001b[1;33m)\u001b[0m\u001b[1;33m\u001b[0m\u001b[0m\n\u001b[0;32m      4\u001b[0m \u001b[0mprobDist2\u001b[0m\u001b[1;33m.\u001b[0m\u001b[0mSUM_TO_ONE\u001b[0m\u001b[1;33m,\u001b[0m\u001b[0mprobDist2\u001b[0m\u001b[1;33m.\u001b[0m\u001b[0mgenerate\u001b[0m\u001b[1;33m(\u001b[0m\u001b[1;33m)\u001b[0m\u001b[1;33m\u001b[0m\u001b[0m\n\u001b[1;32m----> 5\u001b[1;33m \u001b[0mmaxEntModel\u001b[0m\u001b[1;33m.\u001b[0m\u001b[0mprob_classify\u001b[0m\u001b[1;33m(\u001b[0m\u001b[1;33m)\u001b[0m\u001b[1;33m\u001b[0m\u001b[0m\n\u001b[0m",
      "\u001b[1;31mTypeError\u001b[0m: prob_classify() missing 1 required positional argument: 'featureset'"
     ]
    }
   ],
   "source": [
    "probDist1=maxEntModel.prob_classify({\"speech\":True})\n",
    "print(probDist1.SUM_TO_ONE,probDist1.generate())\n",
    "probDist2=maxEntModel.prob_classify({\"generally\":True})\n",
    "probDist2.SUM_TO_ONE,probDist2.generate()"
   ]
  },
  {
   "cell_type": "code",
   "execution_count": 10,
   "metadata": {
    "collapsed": false
   },
   "outputs": [
    {
     "name": "stdout",
     "output_type": "stream",
     "text": [
      "  ==> Training (100 iterations)\n",
      "\n",
      "      Iteration    Log Likelihood    Accuracy\n",
      "      ---------------------------------------\n",
      "             1          -0.69315        0.500\n",
      "             2          -0.00000        1.000\n",
      "             3           0.00000        1.000\n",
      "      Training stopped: keyboard interrupt\n",
      "         Final           0.00000        1.000\n",
      "<ConditionalExponentialClassifier: 2 labels, 13255 features>\n",
      "<ConditionalExponentialClassifier: 2 labels, 13255 features>\n",
      "   1.158 ii==True and label is 'pos'\n",
      "   1.158 sense==True and label is 'pos'\n",
      "   1.158 could==True and label is 'pos'\n",
      "   1.158 killer==True and label is 'pos'\n",
      "   1.158 martin==True and label is 'pos'\n",
      "   1.158 completely==True and label is 'pos'\n",
      "   1.158 make==True and label is 'pos'\n",
      "   1.158 long==True and label is 'pos'\n",
      "   1.158 creepy==True and label is 'pos'\n",
      "   1.158 ('much', 'more')==True and label is 'pos'\n"
     ]
    }
   ],
   "source": [
    "#Bigram Collocations- Handle Cases like “not good”, here B-O-W Approach will Fail\n",
    "def bigram_word_feats(words, score_fn, n=200):\n",
    "    bigram_finder = BigramCollocationFinder.from_words(words)\n",
    "    bigrams = bigram_finder.nbest(score_fn, n)\n",
    "    return dict([(ngram, True) for ngram in itertools.chain(words, bigrams)])\n",
    "\n",
    "evaluations.append(evaluate_classifier(bigram_word_feats,BigramAssocMeasures.chi_sq))#Works best for this Data\n",
    "#evaluations.append(evaluate_classifier(bigram_word_feats,BigramAssocMeasures.jaccard))\n",
    "#evaluations.append(evaluate_classifier(bigram_word_feats,BigramAssocMeasures.likelihood_ratio))"
   ]
  },
  {
   "cell_type": "code",
   "execution_count": 3,
   "metadata": {
    "collapsed": false
   },
   "outputs": [
    {
     "name": "stdout",
     "output_type": "stream",
     "text": [
      "1583820 39768 [(',', 77717), ('the', 76529), ('.', 65876), ('a', 38106), ('and', 35576), ('of', 34123), ('to', 31937), (\"'\", 30585), ('is', 25195), ('in', 21822), ('s', 18513), ('\"', 17612), ('it', 16107), ('that', 15924), ('-', 15595), (')', 11781), ('(', 11664), ('as', 11378), ('with', 10792), ('for', 9961)]\n",
      "1583820 ['pos', 'neg'] dict_items([('pos', FreqDist({',': 35269, 'the': 35058, '.': 32162, 'a': 17910, 'and': 15680, 'of': 15487, 'to': 15420, \"'\": 15317, 'is': 11136, 'in': 10097, ...})), ('neg', FreqDist({',': 42448, 'the': 41471, '.': 33714, 'a': 20196, 'and': 19896, 'of': 18636, 'to': 16517, \"'\": 15268, 'is': 14059, 'in': 11725, ...}))])\n",
      "751256 832564\n"
     ]
    }
   ],
   "source": [
    "from nltk.collocations import *\n",
    "from nltk.probability import FreqDist\n",
    "from nltk.probability import ConditionalFreqDist\n",
    "word_fd = FreqDist()\n",
    "label_word_fd = ConditionalFreqDist()\n",
    "\n",
    "testNegWords = movie_reviews.words(categories=['pos'])\n",
    "testPosWords = movie_reviews.words(categories=['neg'])\n",
    "\n",
    "for word in testNegWords:\n",
    "    word_fd[word.lower()]+=1\n",
    "    label_word_fd['neg'][word.lower()]+=1\n",
    "for word in testPosWords:\n",
    "    word_fd[word.lower()]+=1\n",
    "    label_word_fd['pos'][word.lower()]+=1\n",
    "print(word_fd.N(),word_fd.B(),word_fd.most_common(20))\n",
    "print(label_word_fd.N(),label_word_fd.conditions(),label_word_fd.items())\n",
    "print(label_word_fd['pos'].N(),label_word_fd['neg'].N())"
   ]
  },
  {
   "cell_type": "code",
   "execution_count": null,
   "metadata": {
    "collapsed": false
   },
   "outputs": [
    {
     "name": "stdout",
     "output_type": "stream",
     "text": [
      "  ==> Training (100 iterations)\n",
      "\n",
      "      Iteration    Log Likelihood    Accuracy\n",
      "      ---------------------------------------\n",
      "             1          -0.69315        0.500"
     ]
    }
   ],
   "source": [
    "# n_ii = label_word_fd[label][word]\n",
    "# n_ix = word_fd[word]\n",
    "# n_xi = label_word_fd[label].N()\n",
    "# n_xx = label_word_fd.N()\n",
    "#         w1    ~w1\n",
    "#      ------ ------\n",
    "#  w2 | n_ii | n_oi | = n_xi\n",
    "#      ------ ------\n",
    "# ~w2 | n_io | n_oo |\n",
    "#     ------ ------\n",
    "#      =n_ix         TOTAL = n_xx\n",
    "# A number of measures are available to score collocations or other associations. The arguments to measure \n",
    "# functions are marginals of a contingency table, in the bigram case (n_ii, (n_ix, n_xi), n_xx):\n",
    "# n_ii = label_word_fd[label][word]\n",
    "# n_ix = word_fd[word]\n",
    "# n_xi = label_word_fd[label].N()\n",
    "# n_xx = label_word_fd.N()\n",
    "# Chi-Sq Contingency Table : Relating Word w1 with \"pos\" classification \n",
    "#         w1    ~w1\n",
    "#      ------ ------\n",
    "# +ve | n_ii | n_oi | = n_xi\n",
    "#      ------ ------\n",
    "# -ve | n_io | n_oo |\n",
    "#     ------ ------\n",
    "#      =n_ix         TOTAL = n_xx\n",
    "# n_ix : Total Freq of word w1, n_xi: pos_word_count \n",
    "pos_word_count = label_word_fd['pos'].N()\n",
    "neg_word_count = label_word_fd['neg'].N()\n",
    "total_word_count = pos_word_count + neg_word_count\n",
    " \n",
    "word_scores = {}\n",
    "\n",
    "#print(word_fd.items())\n",
    "for word, freq in word_fd.items():\n",
    "    pos_score = BigramAssocMeasures.chi_sq(label_word_fd['pos'][word],(freq, pos_word_count), total_word_count)\n",
    "    neg_score = BigramAssocMeasures.chi_sq(label_word_fd['neg'][word],(freq, neg_word_count), total_word_count)\n",
    "    word_scores[word] = pos_score + neg_score\n",
    "import operator\n",
    "best1 = sorted(word_scores.items(), key=operator.itemgetter(1), reverse=True)[:10000]\n",
    "bestwords = set([w for w, s in best1])\n",
    " \n",
    "def best_word_feats(words,biGramMeasure):\n",
    "    return dict([(word, True) for word in words if word in bestwords])\n",
    " \n",
    "evaluations.append(evaluate_classifier(best_word_feats,BigramAssocMeasures.chi_sq))\n",
    " \n",
    "def best_bigram_word_feats(words, score_fn=BigramAssocMeasures.chi_sq, n=200):\n",
    "    bigram_finder = BigramCollocationFinder.from_words(words)\n",
    "    bigrams = bigram_finder.nbest(score_fn, n)\n",
    "    d = dict([(bigram, True) for bigram in bigrams])\n",
    "    d.update(best_word_feats(words,score_fn))\n",
    "    return d\n",
    "#evaluations.append(evaluate_classifier(best_bigram_word_feats,BigramAssocMeasures.chi_sq))"
   ]
  },
  {
   "cell_type": "code",
   "execution_count": null,
   "metadata": {
    "collapsed": true
   },
   "outputs": [],
   "source": [
    "for modelEvalMetrics in evaluations:\n",
    "    print(modelEvalMetrics)"
   ]
  }
 ],
 "metadata": {
  "kernelspec": {
   "display_name": "Python 3",
   "language": "python",
   "name": "python3"
  },
  "language_info": {
   "codemirror_mode": {
    "name": "ipython",
    "version": 3
   },
   "file_extension": ".py",
   "mimetype": "text/x-python",
   "name": "python",
   "nbconvert_exporter": "python",
   "pygments_lexer": "ipython3",
   "version": "3.5.1"
  }
 },
 "nbformat": 4,
 "nbformat_minor": 0
}
